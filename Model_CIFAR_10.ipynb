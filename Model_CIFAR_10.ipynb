{
  "nbformat": 4,
  "nbformat_minor": 0,
  "metadata": {
    "colab": {
      "provenance": [],
      "gpuType": "T4",
      "toc_visible": true,
      "authorship_tag": "ABX9TyO/qQoT7OMdrE7UkVtDZtMA",
      "include_colab_link": true
    },
    "kernelspec": {
      "name": "python3",
      "display_name": "Python 3"
    },
    "language_info": {
      "name": "python"
    },
    "accelerator": "GPU"
  },
  "cells": [
    {
      "cell_type": "markdown",
      "metadata": {
        "id": "view-in-github",
        "colab_type": "text"
      },
      "source": [
        "<a href=\"https://colab.research.google.com/github/RishiShah99/Cifar-10/blob/main/Model_CIFAR_10.ipynb\" target=\"_parent\"><img src=\"https://colab.research.google.com/assets/colab-badge.svg\" alt=\"Open In Colab\"/></a>"
      ]
    },
    {
      "cell_type": "markdown",
      "source": [
        "#CIFAR 10 Classification"
      ],
      "metadata": {
        "id": "bo6mwPmfnrUQ"
      }
    },
    {
      "cell_type": "markdown",
      "source": [
        "##Creating the datasets and dataloaders"
      ],
      "metadata": {
        "id": "gsskaVa9VkVZ"
      }
    },
    {
      "cell_type": "code",
      "source": [
        "import torch\n",
        "import torchvision\n",
        "import torchvision.transforms as transforms"
      ],
      "metadata": {
        "id": "jRYt01-8Vlsv"
      },
      "execution_count": 1,
      "outputs": []
    },
    {
      "cell_type": "code",
      "source": [
        "# Data Augmentation applied to assist the neural network\n",
        "transform = transforms.Compose([\n",
        "    transforms.RandomHorizontalFlip(),\n",
        "    transforms.RandomRotation(10),\n",
        "    transforms.ToTensor(),\n",
        "    transforms.Normalize((0.5, 0.5, 0.5), (0.5, 0.5, 0.5))\n",
        "])"
      ],
      "metadata": {
        "id": "ufIf4GiiW0T5"
      },
      "execution_count": 2,
      "outputs": []
    },
    {
      "cell_type": "code",
      "source": [
        "batch_size = 4\n",
        "trainset = torchvision.datasets.CIFAR10(root = './data', train=True, download=True, transform = transform)\n",
        "trainloader = torch.utils.data.DataLoader(trainset, batch_size=batch_size, shuffle=True, num_workers=2)\n",
        "testset = torchvision.datasets.CIFAR10(root = './data', train=False, download=True, transform = transform)\n",
        "testloader = torch.utils.data.DataLoader(testset, batch_size = batch_size, shuffle=False, num_workers = 2)\n",
        "\n",
        "# All possible classes for the CIFAR-10 datasets\n",
        "classes = ('plane', 'car', 'bird', 'cat', 'deer', 'dog', 'frog', 'horse', 'ship', 'truck')"
      ],
      "metadata": {
        "colab": {
          "base_uri": "https://localhost:8080/"
        },
        "id": "LwY9Ac7oWJI9",
        "outputId": "5a3eef99-1e13-4a0a-d129-4ad967cc23cd"
      },
      "execution_count": 4,
      "outputs": [
        {
          "output_type": "stream",
          "name": "stdout",
          "text": [
            "Downloading https://www.cs.toronto.edu/~kriz/cifar-10-python.tar.gz to ./data/cifar-10-python.tar.gz\n"
          ]
        },
        {
          "output_type": "stream",
          "name": "stderr",
          "text": [
            "100%|██████████| 170498071/170498071 [00:02<00:00, 68372164.51it/s]\n"
          ]
        },
        {
          "output_type": "stream",
          "name": "stdout",
          "text": [
            "Extracting ./data/cifar-10-python.tar.gz to ./data\n",
            "Files already downloaded and verified\n"
          ]
        }
      ]
    },
    {
      "cell_type": "markdown",
      "source": [
        "##Visualizing Data"
      ],
      "metadata": {
        "id": "5k0vHKK-fyUF"
      }
    },
    {
      "cell_type": "code",
      "source": [
        "# Creating a method to visualize the data images with matplotlib\n",
        "import matplotlib.pyplot as plt\n",
        "import numpy as np\n",
        "\n",
        "def imshow(img):\n",
        "  img = img/2 + 0.5 #unnormalize\n",
        "  npimg = img.numpy()\n",
        "  plt.imshow(np.transpose(npimg, (1,2,0)))\n",
        "  plt.show()\n",
        "\n",
        "dataiter = iter(trainloader)\n",
        "images, labels = next(dataiter)\n",
        "\n",
        "imshow(torchvision.utils.make_grid(images))\n",
        "\n",
        "print(' '.join(f'{classes[labels[j]]:5s}' for j in range(batch_size)))"
      ],
      "metadata": {
        "colab": {
          "base_uri": "https://localhost:8080/",
          "height": 211
        },
        "id": "GXwzs4kpY9bU",
        "outputId": "1bc7f72f-1c35-4b32-ef83-3a54d8dd6a85"
      },
      "execution_count": 5,
      "outputs": [
        {
          "output_type": "display_data",
          "data": {
            "text/plain": [
              "<Figure size 640x480 with 1 Axes>"
            ],
            "image/png": "[encoded data removed]"
          },
          "metadata": {}
        },
        {
          "output_type": "stream",
          "name": "stdout",
          "text": [
            "truck plane truck horse\n"
          ]
        }
      ]
    },
    {
      "cell_type": "markdown",
      "source": [
        "#Creating a Convolutional Neural Network:\n",
        "- My first version without convolutional only had a 15% accuracy\n",
        "- Convolutional should be able to score much higher accuracy"
      ],
      "metadata": {
        "id": "8fNfXKhuZpOK"
      }
    },
    {
      "cell_type": "code",
      "source": [
        "import torch.nn as nn\n",
        "import torch.nn.functional as F\n",
        "\n",
        "class CIFARModelV1(nn.Module):\n",
        "  def __init__(self):\n",
        "    super().__init__()\n",
        "    # Creating convolutional and linear layers\n",
        "    self.conv1 = nn.Conv2d(3,6,5)\n",
        "    self.pool = nn.MaxPool2d(2,2)\n",
        "    self.conv2 = nn.Conv2d(6,16,5)\n",
        "    self.fc1 = nn.Linear(16*5*5, 120)\n",
        "    self.fc2 = nn.Linear(120,84)\n",
        "    self.fc3 = nn.Linear(84, 10)\n",
        "\n",
        "  def forward(self, x):\n",
        "    x = self.pool(F.relu(self.conv1(x)))\n",
        "    x = self.pool(F.relu(self.conv2(x)))\n",
        "    x = torch.flatten(x, 1)\n",
        "    x = F.relu(self.fc1(x))\n",
        "    x = F.relu(self.fc2(x))\n",
        "    x = self.fc3(x)\n",
        "    return x"
      ],
      "metadata": {
        "id": "w4xmF-BBZsEe"
      },
      "execution_count": 6,
      "outputs": []
    },
    {
      "cell_type": "code",
      "source": [
        "model_1 = CIFARModelV1()"
      ],
      "metadata": {
        "id": "Z7Tx8KABZx0A"
      },
      "execution_count": 7,
      "outputs": []
    },
    {
      "cell_type": "markdown",
      "source": [
        "Defining a loss function and optimizer"
      ],
      "metadata": {
        "id": "ro3Fa5FBbQrB"
      }
    },
    {
      "cell_type": "code",
      "source": [
        "import torch.optim as optim\n",
        "criterion = nn.CrossEntropyLoss()\n",
        "optimizer = optim.SGD(net.parameters(), lr = 0.001, momentum = 0.9)"
      ],
      "metadata": {
        "id": "SOaQZgAlbSrG"
      },
      "execution_count": 8,
      "outputs": []
    },
    {
      "cell_type": "markdown",
      "source": [
        "#Training and Testing"
      ],
      "metadata": {
        "id": "MS-KmsIrbb1F"
      }
    },
    {
      "cell_type": "code",
      "source": [
        "# Training the neural network\n",
        "for epoch in range(10):\n",
        "  running_loss = 0.0\n",
        "  for i, data in enumerate(trainloader, 0):\n",
        "    inputs, labels = data\n",
        "\n",
        "    optimizer.zero_grad()\n",
        "\n",
        "    outputs = net(inputs)\n",
        "    loss = criterion(outputs, labels)\n",
        "    loss.backward()\n",
        "    optimizer.step()\n",
        "\n",
        "    running_loss += loss.item()\n",
        "    if i%2000 == 1999:\n",
        "      print(f'[{epoch +1}, {i+1:5d}] loss: {running_loss/2000:.3f}')\n",
        "      running_loss = 0.0\n",
        "\n",
        "print('Finished Training')"
      ],
      "metadata": {
        "id": "LC-bp8nLbxrl",
        "colab": {
          "base_uri": "https://localhost:8080/"
        },
        "outputId": "d6894ef9-0c90-4646-8f16-3429ff7d5ee6"
      },
      "execution_count": 9,
      "outputs": [
        {
          "output_type": "stream",
          "name": "stdout",
          "text": [
            "[1,  2000] loss: 2.226\n",
            "[1,  4000] loss: 1.920\n",
            "[1,  6000] loss: 1.706\n",
            "[1,  8000] loss: 1.611\n",
            "[1, 10000] loss: 1.553\n",
            "[1, 12000] loss: 1.511\n",
            "[2,  2000] loss: 1.440\n",
            "[2,  4000] loss: 1.411\n",
            "[2,  6000] loss: 1.407\n",
            "[2,  8000] loss: 1.339\n",
            "[2, 10000] loss: 1.342\n",
            "[2, 12000] loss: 1.343\n",
            "[3,  2000] loss: 1.285\n",
            "[3,  4000] loss: 1.275\n",
            "[3,  6000] loss: 1.258\n",
            "[3,  8000] loss: 1.252\n",
            "[3, 10000] loss: 1.240\n",
            "[3, 12000] loss: 1.250\n",
            "[4,  2000] loss: 1.186\n",
            "[4,  4000] loss: 1.189\n",
            "[4,  6000] loss: 1.201\n",
            "[4,  8000] loss: 1.191\n",
            "[4, 10000] loss: 1.189\n",
            "[4, 12000] loss: 1.167\n",
            "[5,  2000] loss: 1.142\n",
            "[5,  4000] loss: 1.143\n",
            "[5,  6000] loss: 1.164\n",
            "[5,  8000] loss: 1.123\n",
            "[5, 10000] loss: 1.146\n",
            "[5, 12000] loss: 1.142\n",
            "[6,  2000] loss: 1.109\n",
            "[6,  4000] loss: 1.089\n",
            "[6,  6000] loss: 1.097\n",
            "[6,  8000] loss: 1.116\n",
            "[6, 10000] loss: 1.111\n",
            "[6, 12000] loss: 1.091\n",
            "[7,  2000] loss: 1.079\n",
            "[7,  4000] loss: 1.065\n",
            "[7,  6000] loss: 1.079\n",
            "[7,  8000] loss: 1.076\n",
            "[7, 10000] loss: 1.065\n",
            "[7, 12000] loss: 1.066\n",
            "[8,  2000] loss: 1.026\n",
            "[8,  4000] loss: 1.050\n",
            "[8,  6000] loss: 1.044\n",
            "[8,  8000] loss: 1.029\n",
            "[8, 10000] loss: 1.077\n",
            "[8, 12000] loss: 1.041\n",
            "[9,  2000] loss: 0.999\n",
            "[9,  4000] loss: 1.015\n",
            "[9,  6000] loss: 1.038\n",
            "[9,  8000] loss: 1.027\n",
            "[9, 10000] loss: 1.034\n",
            "[9, 12000] loss: 1.048\n",
            "[10,  2000] loss: 0.994\n",
            "[10,  4000] loss: 1.009\n",
            "[10,  6000] loss: 0.995\n",
            "[10,  8000] loss: 1.001\n",
            "[10, 10000] loss: 1.030\n",
            "[10, 12000] loss: 1.015\n",
            "Finished Training\n"
          ]
        }
      ]
    },
    {
      "cell_type": "code",
      "source": [
        "# Saving the trained model\n",
        "PATH = './cifar_net.pth'\n",
        "torch.save(net.state_dict(), PATH)"
      ],
      "metadata": {
        "id": "PczrhdP_wVTV"
      },
      "execution_count": 10,
      "outputs": []
    },
    {
      "cell_type": "code",
      "source": [
        "dataiter = iter(testloader)\n",
        "images,labels = next(dataiter)\n",
        "\n",
        "# Printing images\n",
        "imshow(torchvision.utils.make_grid(images))\n",
        "print('GroundTruth: ', ' '.join(f'{classes[labels[j]]:5s}' for j in range(4)))"
      ],
      "metadata": {
        "colab": {
          "base_uri": "https://localhost:8080/",
          "height": 211
        },
        "id": "PlmMW1yQxwVM",
        "outputId": "656e7cda-27c3-42c2-ba29-9d41952fb557"
      },
      "execution_count": 11,
      "outputs": [
        {
          "output_type": "display_data",
          "data": {
            "text/plain": [
              "<Figure size 640x480 with 1 Axes>"
            ],
            "image/png": "[encoded data removed]"
          },
          "metadata": {}
        },
        {
          "output_type": "stream",
          "name": "stdout",
          "text": [
            "GroundTruth:  cat   ship  ship  plane\n"
          ]
        }
      ]
    },
    {
      "cell_type": "code",
      "source": [
        "# Loading the saved model\n",
        "net = Net()\n",
        "net.load_state_dict(torch.load(PATH))"
      ],
      "metadata": {
        "colab": {
          "base_uri": "https://localhost:8080/"
        },
        "id": "fWM9DEP1yBvH",
        "outputId": "737e346c-3532-4d99-dde2-bc7f800506ee"
      },
      "execution_count": 12,
      "outputs": [
        {
          "output_type": "execute_result",
          "data": {
            "text/plain": [
              "<All keys matched successfully>"
            ]
          },
          "metadata": {},
          "execution_count": 12
        }
      ]
    },
    {
      "cell_type": "code",
      "source": [
        "outputs = net(images)"
      ],
      "metadata": {
        "id": "m4_sMrt21MtW"
      },
      "execution_count": 13,
      "outputs": []
    },
    {
      "cell_type": "code",
      "source": [
        "# To see how the network performs on the whole dataset\n",
        "correct = 0\n",
        "total = 0\n",
        "\n",
        "with torch.no_grad():\n",
        "  for data in testloader:\n",
        "    images, labels = data\n",
        "    outputs = net(images)\n",
        "    _, predicted = torch.max(outputs.data, 1)\n",
        "    total += labels.size(0)\n",
        "    correct += (predicted == labels).sum().item()\n",
        "\n",
        "print (f'Accuracy of the network on the 10000 test images: {100*correct // total}%')"
      ],
      "metadata": {
        "colab": {
          "base_uri": "https://localhost:8080/"
        },
        "id": "icEggpLQ1NpK",
        "outputId": "dc8d0ed1-4e0a-4147-ae78-6014439a64b6"
      },
      "execution_count": 14,
      "outputs": [
        {
          "output_type": "stream",
          "name": "stdout",
          "text": [
            "Accuracy of the network on the 10000 test images: 61%\n"
          ]
        }
      ]
    },
    {
      "cell_type": "code",
      "source": [
        "correct_pred = {classname: 0 for classname in classes}\n",
        "total_pred = {classname: 0 for classname in classes}\n",
        "\n",
        "with torch.no_grad():\n",
        "  for data in testloader:\n",
        "    images, labels = data\n",
        "    outputs in net(images)\n",
        "    _, predictions = torch.max(outputs, 1)\n",
        "    for label, prediction in zip(labels, predictions):\n",
        "      if label == prediction:\n",
        "        correct_pred[classes[label]] += 1\n",
        "      total_pred[classes[label]] += 1\n",
        "\n",
        "for classname, correct_count in correct_pred.items():\n",
        "  accuracy = 100*float(correct_count) / total_pred [classname]\n",
        "  print(f'Accuracy for class: {classname:5s} is {accuracy:.1f} %')"
      ],
      "metadata": {
        "colab": {
          "base_uri": "https://localhost:8080/"
        },
        "id": "rpdVW4bN1aX9",
        "outputId": "11086c94-c48b-4b9a-c81b-9dc16fb81c5e"
      },
      "execution_count": 15,
      "outputs": [
        {
          "output_type": "stream",
          "name": "stdout",
          "text": [
            "Accuracy for class: plane is 0.0 %\n",
            "Accuracy for class: car   is 0.0 %\n",
            "Accuracy for class: bird  is 0.0 %\n",
            "Accuracy for class: cat   is 24.3 %\n",
            "Accuracy for class: deer  is 25.7 %\n",
            "Accuracy for class: dog   is 25.6 %\n",
            "Accuracy for class: frog  is 0.0 %\n",
            "Accuracy for class: horse is 25.6 %\n",
            "Accuracy for class: ship  is 0.0 %\n",
            "Accuracy for class: truck is 0.0 %\n"
          ]
        }
      ]
    },
    {
      "cell_type": "markdown",
      "source": [
        "#To test sending the device to the GPU:"
      ],
      "metadata": {
        "id": "7RYEIJtF43cc"
      }
    },
    {
      "cell_type": "code",
      "source": [
        "device = torch.device('cuda:0' if torch.cuda.is_available() else 'cpu')\n",
        "\n",
        "print (device)"
      ],
      "metadata": {
        "colab": {
          "base_uri": "https://localhost:8080/"
        },
        "id": "IlD71atF4ZvI",
        "outputId": "83eb7fa3-bdd9-4b77-fc89-77ca04277c1c"
      },
      "execution_count": 16,
      "outputs": [
        {
          "output_type": "stream",
          "name": "stdout",
          "text": [
            "cpu\n"
          ]
        }
      ]
    },
    {
      "cell_type": "code",
      "source": [
        "net.to(device)"
      ],
      "metadata": {
        "colab": {
          "base_uri": "https://localhost:8080/"
        },
        "id": "Twxr4P-k4qt_",
        "outputId": "9c39b9f0-61a1-4c8a-82bc-e08998ba9c6d"
      },
      "execution_count": 17,
      "outputs": [
        {
          "output_type": "execute_result",
          "data": {
            "text/plain": [
              "Net(\n",
              "  (conv1): Conv2d(3, 6, kernel_size=(5, 5), stride=(1, 1))\n",
              "  (pool): MaxPool2d(kernel_size=2, stride=2, padding=0, dilation=1, ceil_mode=False)\n",
              "  (conv2): Conv2d(6, 16, kernel_size=(5, 5), stride=(1, 1))\n",
              "  (fc1): Linear(in_features=400, out_features=120, bias=True)\n",
              "  (fc2): Linear(in_features=120, out_features=84, bias=True)\n",
              "  (fc3): Linear(in_features=84, out_features=10, bias=True)\n",
              ")"
            ]
          },
          "metadata": {},
          "execution_count": 17
        }
      ]
    },
    {
      "cell_type": "code",
      "source": [
        "inputs,labels = data[0].to(device), data[1].to(device)"
      ],
      "metadata": {
        "id": "-AWnlHnh4shR"
      },
      "execution_count": 18,
      "outputs": []
    },
    {
      "cell_type": "code",
      "source": [],
      "metadata": {
        "id": "y6l1GN9J4xl5"
      },
      "execution_count": 18,
      "outputs": []
    }
  ]
}