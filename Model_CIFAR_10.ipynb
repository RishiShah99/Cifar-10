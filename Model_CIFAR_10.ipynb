{
  "nbformat": 4,
  "nbformat_minor": 0,
  "metadata": {
    "colab": {
      "provenance": [],
      "gpuType": "T4",
      "authorship_tag": "ABX9TyMaChHnq/8tskJZ4r1JFvzH",
      "include_colab_link": true
    },
    "kernelspec": {
      "name": "python3",
      "display_name": "Python 3"
    },
    "language_info": {
      "name": "python"
    },
    "accelerator": "GPU"
  },
  "cells": [
    {
      "cell_type": "markdown",
      "metadata": {
        "id": "view-in-github",
        "colab_type": "text"
      },
      "source": [
        "<a href=\"https://colab.research.google.com/github/RishiShah99/Cifar-10/blob/main/Model_CIFAR_10.ipynb\" target=\"_parent\"><img src=\"https://colab.research.google.com/assets/colab-badge.svg\" alt=\"Open In Colab\"/></a>"
      ]
    },
    {
      "cell_type": "markdown",
      "source": [
        "#CIFAR 10 Classification"
      ],
      "metadata": {
        "id": "bo6mwPmfnrUQ"
      }
    },
    {
      "cell_type": "markdown",
      "source": [
        "##1. Convolutional Neural Network Version 1"
      ],
      "metadata": {
        "id": "iJU97UySuN1A"
      }
    },
    {
      "cell_type": "markdown",
      "source": [
        "###Creating the datasets and dataloaders"
      ],
      "metadata": {
        "id": "gsskaVa9VkVZ"
      }
    },
    {
      "cell_type": "code",
      "source": [
        "# Necessary imports\n",
        "import torch\n",
        "import torchvision\n",
        "import torchvision.transforms as transforms"
      ],
      "metadata": {
        "id": "jRYt01-8Vlsv"
      },
      "execution_count": 33,
      "outputs": []
    },
    {
      "cell_type": "code",
      "source": [
        "# Data Augmentation applied to assist the neural network\n",
        "transform = transforms.Compose([\n",
        "    transforms.RandomHorizontalFlip(),\n",
        "    transforms.RandomRotation(10),\n",
        "    transforms.ToTensor(),\n",
        "    transforms.Normalize((0.5, 0.5, 0.5), (0.5, 0.5, 0.5))\n",
        "])"
      ],
      "metadata": {
        "id": "ufIf4GiiW0T5"
      },
      "execution_count": 34,
      "outputs": []
    },
    {
      "cell_type": "code",
      "source": [
        "# Batch Size hyperparameter\n",
        "batch_size = 4\n",
        "\n",
        "# Creating the train/test sets and loaders\n",
        "trainset = torchvision.datasets.CIFAR10(root = './data', train=True, download=True, transform = transform)\n",
        "trainloader = torch.utils.data.DataLoader(trainset, batch_size=batch_size, shuffle=True, num_workers=2)\n",
        "testset = torchvision.datasets.CIFAR10(root = './data', train=False, download=True, transform = transform)\n",
        "testloader = torch.utils.data.DataLoader(testset, batch_size = batch_size, shuffle=False, num_workers = 2)\n",
        "\n",
        "# All possible classes for the CIFAR-10 datasets\n",
        "classes = ('plane', 'car', 'bird', 'cat', 'deer', 'dog', 'frog', 'horse', 'ship', 'truck')"
      ],
      "metadata": {
        "colab": {
          "base_uri": "https://localhost:8080/"
        },
        "id": "LwY9Ac7oWJI9",
        "outputId": "ac6c5693-65ab-4820-ebbd-8b787963686b"
      },
      "execution_count": 35,
      "outputs": [
        {
          "output_type": "stream",
          "name": "stdout",
          "text": [
            "Files already downloaded and verified\n",
            "Files already downloaded and verified\n"
          ]
        }
      ]
    },
    {
      "cell_type": "markdown",
      "source": [
        "###Visualizing Data"
      ],
      "metadata": {
        "id": "5k0vHKK-fyUF"
      }
    },
    {
      "cell_type": "code",
      "source": [
        "# Creating a method to visualize the data images with matplotlib\n",
        "import matplotlib.pyplot as plt\n",
        "import numpy as np\n",
        "\n",
        "def imshow(img):\n",
        "  img = img/2 + 0.5 #unnormalize\n",
        "  npimg = img.numpy()\n",
        "  plt.imshow(np.transpose(npimg, (1,2,0)))\n",
        "  plt.show()\n",
        "\n",
        "dataiter = iter(trainloader)\n",
        "images, labels = next(dataiter)\n",
        "\n",
        "imshow(torchvision.utils.make_grid(images))\n",
        "\n",
        "print(' '.join(f'{classes[labels[j]]:5s}' for j in range(batch_size)))"
      ],
      "metadata": {
        "colab": {
          "base_uri": "https://localhost:8080/",
          "height": 210
        },
        "id": "GXwzs4kpY9bU",
        "outputId": "f62f260e-3268-4081-c403-941cdb6f28e5"
      },
      "execution_count": 36,
      "outputs": [
        {
          "output_type": "display_data",
          "data": {
            "text/plain": [
              "<Figure size 640x480 with 1 Axes>"
            ],
            "image/png": "[encoded data removed]"
          },
          "metadata": {}
        },
        {
          "output_type": "stream",
          "name": "stdout",
          "text": [
            "horse plane cat   plane\n"
          ]
        }
      ]
    },
    {
      "cell_type": "markdown",
      "source": [
        "###Building Version 1 Convolutional Neural Network:\n",
        "- My first version without convolutional layers only had a 15% accuracy\n",
        "- Convolutional should be able to score much higher accuracy"
      ],
      "metadata": {
        "id": "8fNfXKhuZpOK"
      }
    },
    {
      "cell_type": "code",
      "source": [
        "import torch.nn as nn\n",
        "import torch.nn.functional as F\n",
        "\n",
        "class CIFARModelV1(nn.Module):\n",
        "  def __init__(self):\n",
        "    super().__init__()\n",
        "    # Creating convolutional and linear layers\n",
        "    self.conv1 = nn.Conv2d(3,6,5)\n",
        "    self.pool = nn.MaxPool2d(2,2)\n",
        "    self.conv2 = nn.Conv2d(6,16,5)\n",
        "    self.fc1 = nn.Linear(16*5*5, 120)\n",
        "    self.fc2 = nn.Linear(120,84)\n",
        "    self.fc3 = nn.Linear(84, 10)\n",
        "\n",
        "  # Define forward pass of the network\n",
        "  def forward(self, x):\n",
        "    # Convolutional layers, followed by relu activation and max pooling\n",
        "    x = self.pool(F.relu(self.conv1(x)))\n",
        "    x = self.pool(F.relu(self.conv2(x)))\n",
        "\n",
        "    # Flatten output tensor from the conv. layers\n",
        "    x = torch.flatten(x, 1)\n",
        "\n",
        "    # Fully connected layers with relu activation\n",
        "    x = F.relu(self.fc1(x))\n",
        "    x = F.relu(self.fc2(x))\n",
        "\n",
        "    # Output layer\n",
        "    x = self.fc3(x)\n",
        "    return x"
      ],
      "metadata": {
        "id": "w4xmF-BBZsEe"
      },
      "execution_count": 37,
      "outputs": []
    },
    {
      "cell_type": "code",
      "source": [
        "# Creating model_1\n",
        "model_1 = CIFARModelV1()"
      ],
      "metadata": {
        "id": "Z7Tx8KABZx0A"
      },
      "execution_count": 38,
      "outputs": []
    },
    {
      "cell_type": "markdown",
      "source": [
        "Defining a loss function and optimizer"
      ],
      "metadata": {
        "id": "ro3Fa5FBbQrB"
      }
    },
    {
      "cell_type": "code",
      "source": [
        "import torch.optim as optim\n",
        "criterion = nn.CrossEntropyLoss()\n",
        "optimizer = optim.SGD(model_1.parameters(), lr = 0.001, momentum = 0.9)"
      ],
      "metadata": {
        "id": "SOaQZgAlbSrG"
      },
      "execution_count": 39,
      "outputs": []
    },
    {
      "cell_type": "markdown",
      "source": [
        "###Training and Testing"
      ],
      "metadata": {
        "id": "MS-KmsIrbb1F"
      }
    },
    {
      "cell_type": "code",
      "source": [
        "# Training the neural network for 10 epochs\n",
        "for epoch in range(10):\n",
        "  running_loss = 0.0  # Variable to keep track of the running loss for each epoch\n",
        "\n",
        "  # Iterate over the data batches in the training loader\n",
        "  for i, data in enumerate(trainloader, 0):\n",
        "    inputs, labels = data  # Get the input data and corresponding labels\n",
        "\n",
        "    optimizer.zero_grad()  # Zero the gradients to prevent accumulation\n",
        "\n",
        "    outputs = model_1(inputs)  # Forward pass: compute the predicted outputs\n",
        "\n",
        "    loss = criterion(outputs, labels)  # Compute the loss between predicted outputs and actual labels\n",
        "\n",
        "    loss.backward()  # Backpropagation: compute gradients of loss with respect to model parameters\n",
        "\n",
        "    optimizer.step()  # Update model parameters using optimizer\n",
        "\n",
        "    running_loss += loss.item()  # Accumulate the loss for printing\n",
        "\n",
        "    # Print running loss every 2000 mini-batches\n",
        "    if i % 2000 == 1999:\n",
        "        print(f'[{epoch + 1}, {i + 1:5d}] loss: {running_loss / 2000:.3f}')\n",
        "        running_loss = 0.0  # Reset running loss for the next set of mini-batches\n",
        "\n",
        "# Training completed\n",
        "print('Finished Training')"
      ],
      "metadata": {
        "id": "LC-bp8nLbxrl",
        "colab": {
          "base_uri": "https://localhost:8080/"
        },
        "outputId": "b8bf95c1-0ccc-45b4-d585-1e30a0a8230b"
      },
      "execution_count": 40,
      "outputs": [
        {
          "output_type": "stream",
          "name": "stdout",
          "text": [
            "[1,  2000] loss: 2.197\n",
            "[1,  4000] loss: 1.904\n",
            "[1,  6000] loss: 1.710\n",
            "[1,  8000] loss: 1.612\n",
            "[1, 10000] loss: 1.557\n",
            "[1, 12000] loss: 1.516\n",
            "[2,  2000] loss: 1.448\n",
            "[2,  4000] loss: 1.419\n",
            "[2,  6000] loss: 1.387\n",
            "[2,  8000] loss: 1.356\n",
            "[2, 10000] loss: 1.360\n",
            "[2, 12000] loss: 1.325\n",
            "[3,  2000] loss: 1.297\n",
            "[3,  4000] loss: 1.281\n",
            "[3,  6000] loss: 1.264\n",
            "[3,  8000] loss: 1.254\n",
            "[3, 10000] loss: 1.262\n",
            "[3, 12000] loss: 1.243\n",
            "[4,  2000] loss: 1.210\n",
            "[4,  4000] loss: 1.201\n",
            "[4,  6000] loss: 1.195\n",
            "[4,  8000] loss: 1.204\n",
            "[4, 10000] loss: 1.175\n",
            "[4, 12000] loss: 1.195\n",
            "[5,  2000] loss: 1.153\n",
            "[5,  4000] loss: 1.136\n",
            "[5,  6000] loss: 1.164\n",
            "[5,  8000] loss: 1.161\n",
            "[5, 10000] loss: 1.137\n",
            "[5, 12000] loss: 1.115\n",
            "[6,  2000] loss: 1.114\n",
            "[6,  4000] loss: 1.100\n",
            "[6,  6000] loss: 1.108\n",
            "[6,  8000] loss: 1.132\n",
            "[6, 10000] loss: 1.106\n",
            "[6, 12000] loss: 1.083\n",
            "[7,  2000] loss: 1.037\n",
            "[7,  4000] loss: 1.092\n",
            "[7,  6000] loss: 1.095\n",
            "[7,  8000] loss: 1.081\n",
            "[7, 10000] loss: 1.072\n",
            "[7, 12000] loss: 1.081\n",
            "[8,  2000] loss: 1.028\n",
            "[8,  4000] loss: 1.072\n",
            "[8,  6000] loss: 1.046\n",
            "[8,  8000] loss: 1.055\n",
            "[8, 10000] loss: 1.055\n",
            "[8, 12000] loss: 1.053\n",
            "[9,  2000] loss: 1.030\n",
            "[9,  4000] loss: 1.020\n",
            "[9,  6000] loss: 1.022\n",
            "[9,  8000] loss: 1.038\n",
            "[9, 10000] loss: 1.052\n",
            "[9, 12000] loss: 1.044\n",
            "[10,  2000] loss: 1.016\n",
            "[10,  4000] loss: 0.993\n",
            "[10,  6000] loss: 1.001\n",
            "[10,  8000] loss: 1.034\n",
            "[10, 10000] loss: 1.017\n",
            "[10, 12000] loss: 1.018\n",
            "Finished Training\n"
          ]
        }
      ]
    },
    {
      "cell_type": "code",
      "source": [
        "# Saving the trained model\n",
        "PATH = './cifar_net.pth'\n",
        "torch.save(model_1.state_dict(), PATH)"
      ],
      "metadata": {
        "id": "PczrhdP_wVTV"
      },
      "execution_count": 41,
      "outputs": []
    },
    {
      "cell_type": "code",
      "source": [
        "dataiter = iter(testloader)\n",
        "images,labels = next(dataiter)\n",
        "\n",
        "# Printing images\n",
        "imshow(torchvision.utils.make_grid(images))\n",
        "print('GroundTruth: ', ' '.join(f'{classes[labels[j]]:5s}' for j in range(4)))"
      ],
      "metadata": {
        "id": "PlmMW1yQxwVM",
        "colab": {
          "base_uri": "https://localhost:8080/",
          "height": 210
        },
        "outputId": "05b15927-5318-4ab6-8ee5-c7a110c2584b"
      },
      "execution_count": 42,
      "outputs": [
        {
          "output_type": "display_data",
          "data": {
            "text/plain": [
              "<Figure size 640x480 with 1 Axes>"
            ],
            "image/png": "[encoded data removed]"
          },
          "metadata": {}
        },
        {
          "output_type": "stream",
          "name": "stdout",
          "text": [
            "GroundTruth:  cat   ship  ship  plane\n"
          ]
        }
      ]
    },
    {
      "cell_type": "code",
      "source": [
        "# Loading the saved model\n",
        "model_2 = CIFARModelV1()\n",
        "model_2.load_state_dict(torch.load(PATH))"
      ],
      "metadata": {
        "id": "fWM9DEP1yBvH",
        "colab": {
          "base_uri": "https://localhost:8080/"
        },
        "outputId": "eb06e962-73a8-48d7-b12d-96d0f097015a"
      },
      "execution_count": 43,
      "outputs": [
        {
          "output_type": "execute_result",
          "data": {
            "text/plain": [
              "<All keys matched successfully>"
            ]
          },
          "metadata": {},
          "execution_count": 43
        }
      ]
    },
    {
      "cell_type": "code",
      "source": [
        "outputs = model_2(images)"
      ],
      "metadata": {
        "id": "m4_sMrt21MtW"
      },
      "execution_count": 44,
      "outputs": []
    },
    {
      "cell_type": "code",
      "source": [
        "# Initialize variables to keep track of correct and total predictions\n",
        "correct = 0\n",
        "total = 0\n",
        "\n",
        "# Disable gradient calculation since we're only evaluating the network\n",
        "with torch.no_grad():\n",
        "  # Iterate over the test dataset\n",
        "  for data in testloader:\n",
        "    images, labels = data  # Get the test images and their labels\n",
        "\n",
        "    outputs = model_2(images)  # Perform forward pass to get the predicted outputs\n",
        "\n",
        "    # Choose the class with the highest probability as the predicted class\n",
        "    _, predicted = torch.max(outputs.data, 1)\n",
        "\n",
        "    # Increment the total count by the number of labels in the batch\n",
        "    total += labels.size(0)\n",
        "\n",
        "    # Increment correct count by the number of correctly predicted labels in the batch\n",
        "    correct += (predicted == labels).sum().item()\n",
        "\n",
        "# Print the accuracy of the network on the test dataset\n",
        "print(f'Accuracy of the network on the 10000 test images: {100 * correct // total}%')"
      ],
      "metadata": {
        "id": "icEggpLQ1NpK",
        "colab": {
          "base_uri": "https://localhost:8080/"
        },
        "outputId": "08026617-741e-4bec-e8a7-25a9cdbcfdfd"
      },
      "execution_count": 45,
      "outputs": [
        {
          "output_type": "stream",
          "name": "stdout",
          "text": [
            "Accuracy of the network on the 10000 test images: 61%\n"
          ]
        }
      ]
    },
    {
      "cell_type": "code",
      "source": [
        "# Initialize dictionaries to keep track of correct predictions and total predictions for each class\n",
        "correct_pred = {classname: 0 for classname in classes}\n",
        "total_pred = {classname: 0 for classname in classes}\n",
        "\n",
        "# Disable gradient calculation since we're only evaluating the network\n",
        "with torch.no_grad():\n",
        "  # Iterate over the test dataset\n",
        "  for data in testloader:\n",
        "    images, labels = data  # Get the test images and their labels\n",
        "\n",
        "    outputs = model_2(images)  # Perform forward pass to get the predicted outputs\n",
        "\n",
        "    _, predictions = torch.max(outputs, 1)  # Choose the class with the highest probability as the predicted class\n",
        "\n",
        "    # Update correct_pred and total_pred dictionaries based on predictions\n",
        "    for label, prediction in zip(labels, predictions):\n",
        "      if label == prediction:\n",
        "        correct_pred[classes[label]] += 1  # Increment correct prediction count for the corresponding class\n",
        "      total_pred[classes[label]] += 1  # Increment total prediction count for the corresponding class\n",
        "\n",
        "# Iterate over the classes and print accuracy for each class\n",
        "for classname, correct_count in correct_pred.items():\n",
        "  accuracy = 100 * float(correct_count) / total_pred[classname]\n",
        "  print(f'Accuracy for class: {classname:5s} is {accuracy:.1f}%')\n"
      ],
      "metadata": {
        "id": "rpdVW4bN1aX9",
        "colab": {
          "base_uri": "https://localhost:8080/"
        },
        "outputId": "3b7bf00b-1111-40a4-f790-852aad2e9827"
      },
      "execution_count": 46,
      "outputs": [
        {
          "output_type": "stream",
          "name": "stdout",
          "text": [
            "Accuracy for class: plane is 70.5%\n",
            "Accuracy for class: car   is 77.6%\n",
            "Accuracy for class: bird  is 57.4%\n",
            "Accuracy for class: cat   is 39.9%\n",
            "Accuracy for class: deer  is 49.0%\n",
            "Accuracy for class: dog   is 49.7%\n",
            "Accuracy for class: frog  is 72.4%\n",
            "Accuracy for class: horse is 70.2%\n",
            "Accuracy for class: ship  is 70.2%\n",
            "Accuracy for class: truck is 58.7%\n"
          ]
        }
      ]
    },
    {
      "cell_type": "markdown",
      "source": [
        "###To test sending the device to the GPU:"
      ],
      "metadata": {
        "id": "7RYEIJtF43cc"
      }
    },
    {
      "cell_type": "code",
      "source": [
        "device = torch.device('cuda:0' if torch.cuda.is_available() else 'cpu')\n",
        "\n",
        "print (device)"
      ],
      "metadata": {
        "colab": {
          "base_uri": "https://localhost:8080/"
        },
        "id": "IlD71atF4ZvI",
        "outputId": "6aa101dd-b523-454d-e2ee-042c0af4b67a"
      },
      "execution_count": 15,
      "outputs": [
        {
          "output_type": "stream",
          "name": "stdout",
          "text": [
            "cuda:0\n"
          ]
        }
      ]
    },
    {
      "cell_type": "code",
      "source": [
        "model_2.to(device)"
      ],
      "metadata": {
        "id": "Twxr4P-k4qt_",
        "colab": {
          "base_uri": "https://localhost:8080/"
        },
        "outputId": "b355ec12-413e-428d-d177-787c0a02734e"
      },
      "execution_count": 16,
      "outputs": [
        {
          "output_type": "execute_result",
          "data": {
            "text/plain": [
              "CIFARModelV1(\n",
              "  (conv1): Conv2d(3, 6, kernel_size=(5, 5), stride=(1, 1))\n",
              "  (pool): MaxPool2d(kernel_size=2, stride=2, padding=0, dilation=1, ceil_mode=False)\n",
              "  (conv2): Conv2d(6, 16, kernel_size=(5, 5), stride=(1, 1))\n",
              "  (fc1): Linear(in_features=400, out_features=120, bias=True)\n",
              "  (fc2): Linear(in_features=120, out_features=84, bias=True)\n",
              "  (fc3): Linear(in_features=84, out_features=10, bias=True)\n",
              ")"
            ]
          },
          "metadata": {},
          "execution_count": 16
        }
      ]
    },
    {
      "cell_type": "code",
      "source": [
        "inputs,labels = data[0].to(device), data[1].to(device)"
      ],
      "metadata": {
        "id": "-AWnlHnh4shR"
      },
      "execution_count": 17,
      "outputs": []
    },
    {
      "cell_type": "markdown",
      "source": [
        "## 2. Larger Convolutional Neural Network\n",
        "* This is to see if I can increase the accuracy from the first neural network by changing the size of the neural network as well as changing the optimizer to ADAM instead of SGD\n",
        "* All imports and dataloaders will be created again so cells above this part don't have to run again."
      ],
      "metadata": {
        "id": "_hV1OPvFqp4_"
      }
    },
    {
      "cell_type": "markdown",
      "source": [
        "###2.1. Creating the datasets and dataloaders"
      ],
      "metadata": {
        "id": "cGFHBo2I00Vl"
      }
    },
    {
      "cell_type": "code",
      "source": [
        "# Necessary Imports\n",
        "import torch\n",
        "from torch import nn\n",
        "import torchvision\n",
        "from torchvision import datasets\n",
        "from torchvision import transforms\n",
        "from torchvision.transforms import ToTensor\n",
        "import matplotlib.pyplot as plt\n",
        "\n",
        "print (torch.__version__)\n",
        "print (torchvision.__version__)"
      ],
      "metadata": {
        "colab": {
          "base_uri": "https://localhost:8080/"
        },
        "id": "_AePWv2f28eS",
        "outputId": "5ae1ade6-1a50-4da2-a438-4c2d9f8a27b0"
      },
      "execution_count": 18,
      "outputs": [
        {
          "output_type": "stream",
          "name": "stdout",
          "text": [
            "2.2.1+cu121\n",
            "0.17.1+cu121\n"
          ]
        }
      ]
    },
    {
      "cell_type": "code",
      "source": [
        "# Performing data augmentation\n",
        "transform = transforms.Compose([\n",
        "    transforms.RandomHorizontalFlip(),\n",
        "    transforms.RandomRotation(10),\n",
        "    transforms.ToTensor(),\n",
        "    transforms.Normalize((0.5, 0.5, 0.5), (0.5, 0.5, 0.5))\n",
        "])"
      ],
      "metadata": {
        "id": "qB_UIAd_382w"
      },
      "execution_count": 19,
      "outputs": []
    },
    {
      "cell_type": "code",
      "source": [
        "# Setup train and test data\n",
        "train_data = datasets.CIFAR10(\n",
        "    root = '/data',\n",
        "    train = True,\n",
        "    download = True,\n",
        "    transform = transform\n",
        ")\n",
        "\n",
        "test_data = datasets.CIFAR10(\n",
        "    root = 'data',\n",
        "    train = False,\n",
        "    download = True,\n",
        "    transform = transform\n",
        ")"
      ],
      "metadata": {
        "colab": {
          "base_uri": "https://localhost:8080/"
        },
        "id": "EiGgezMm3ZWI",
        "outputId": "bac832f6-aecf-417f-cb9f-f9dcc9e01dbf"
      },
      "execution_count": 20,
      "outputs": [
        {
          "output_type": "stream",
          "name": "stdout",
          "text": [
            "Downloading https://www.cs.toronto.edu/~kriz/cifar-10-python.tar.gz to /data/cifar-10-python.tar.gz\n"
          ]
        },
        {
          "output_type": "stream",
          "name": "stderr",
          "text": [
            "100%|██████████| 170498071/170498071 [00:03<00:00, 43551811.28it/s]\n"
          ]
        },
        {
          "output_type": "stream",
          "name": "stdout",
          "text": [
            "Extracting /data/cifar-10-python.tar.gz to /data\n",
            "Files already downloaded and verified\n"
          ]
        }
      ]
    },
    {
      "cell_type": "code",
      "source": [
        "# Checking the sizes of each\n",
        "len(train_data), len(test_data)"
      ],
      "metadata": {
        "colab": {
          "base_uri": "https://localhost:8080/"
        },
        "id": "fFrP49jx4bO_",
        "outputId": "e1b6344a-e9ff-4480-8521-fcf44c205c72"
      },
      "execution_count": 21,
      "outputs": [
        {
          "output_type": "execute_result",
          "data": {
            "text/plain": [
              "(50000, 10000)"
            ]
          },
          "metadata": {},
          "execution_count": 21
        }
      ]
    },
    {
      "cell_type": "code",
      "source": [
        "classes = train_data.classes\n",
        "classes"
      ],
      "metadata": {
        "colab": {
          "base_uri": "https://localhost:8080/"
        },
        "id": "zK9bAT2e4h4T",
        "outputId": "be384450-9eef-46ec-b8ee-0cb0158c6a66"
      },
      "execution_count": 22,
      "outputs": [
        {
          "output_type": "execute_result",
          "data": {
            "text/plain": [
              "['airplane',\n",
              " 'automobile',\n",
              " 'bird',\n",
              " 'cat',\n",
              " 'deer',\n",
              " 'dog',\n",
              " 'frog',\n",
              " 'horse',\n",
              " 'ship',\n",
              " 'truck']"
            ]
          },
          "metadata": {},
          "execution_count": 22
        }
      ]
    },
    {
      "cell_type": "code",
      "source": [
        "class_to_idx = train_data.class_to_idx\n",
        "class_to_idx"
      ],
      "metadata": {
        "colab": {
          "base_uri": "https://localhost:8080/"
        },
        "id": "iax-xsJ24sFK",
        "outputId": "0a446d14-0893-405a-f0dd-cc6043065c85"
      },
      "execution_count": 23,
      "outputs": [
        {
          "output_type": "execute_result",
          "data": {
            "text/plain": [
              "{'airplane': 0,\n",
              " 'automobile': 1,\n",
              " 'bird': 2,\n",
              " 'cat': 3,\n",
              " 'deer': 4,\n",
              " 'dog': 5,\n",
              " 'frog': 6,\n",
              " 'horse': 7,\n",
              " 'ship': 8,\n",
              " 'truck': 9}"
            ]
          },
          "metadata": {},
          "execution_count": 23
        }
      ]
    },
    {
      "cell_type": "code",
      "source": [
        "from torch.utils.data import DataLoader\n",
        "\n",
        "# Batch size hyperparameters\n",
        "BATCH_SIZE = 4\n",
        "\n",
        "# Creating the dataloaders\n",
        "train_dataloader = DataLoader(dataset = train_data, batch_size = BATCH_SIZE, shuffle = True)\n",
        "test_dataloader = DataLoader(dataset = test_data, batch_size = BATCH_SIZE, shuffle = False)\n",
        "\n",
        "print(f\"Length of train dataloader: {len(train_dataloader)} batches of {BATCH_SIZE}\")\n",
        "print(f\"Length of test dataloader: {len(test_dataloader)} batches of {BATCH_SIZE}\")\n",
        "train_dataloader, test_dataloader"
      ],
      "metadata": {
        "colab": {
          "base_uri": "https://localhost:8080/"
        },
        "id": "GDoFSqU78Lrb",
        "outputId": "5abff4cf-c6f8-4e95-cbd8-80ac2fe4d9fb"
      },
      "execution_count": 24,
      "outputs": [
        {
          "output_type": "stream",
          "name": "stdout",
          "text": [
            "Length of train dataloader: 12500 batches of 4\n",
            "Length of test dataloader: 2500 batches of 4\n"
          ]
        },
        {
          "output_type": "execute_result",
          "data": {
            "text/plain": [
              "(<torch.utils.data.dataloader.DataLoader at 0x7bb7b6fa7fd0>,\n",
              " <torch.utils.data.dataloader.DataLoader at 0x7bb7b6fa7f40>)"
            ]
          },
          "metadata": {},
          "execution_count": 24
        }
      ]
    },
    {
      "cell_type": "markdown",
      "source": [
        "### 2.2. Visualizing some of the data"
      ],
      "metadata": {
        "id": "U-_-7_qB2t34"
      }
    },
    {
      "cell_type": "code",
      "source": [
        "import matplotlib.pyplot as plt\n",
        "import numpy as np\n",
        "\n",
        "def imshow(img):\n",
        "    img = img / 2 + 0.5  # unnormalize\n",
        "    npimg = img.numpy()\n",
        "    plt.imshow(np.transpose(npimg, (1, 2, 0)))\n",
        "    plt.axis('off')  # Turn off axis\n",
        "    plt.show()\n",
        "\n",
        "dataiter = iter(train_dataloader)\n",
        "images, labels = next(dataiter)\n",
        "\n",
        "num_images = 4\n",
        "imshow(torchvision.utils.make_grid(images[:num_images]))  # Display first 4 images\n",
        "print(' '.join(f'{classes[labels[j]]:5s}' for j in range(num_images)))  # Print labels for first 4 images"
      ],
      "metadata": {
        "colab": {
          "base_uri": "https://localhost:8080/",
          "height": 183
        },
        "id": "FF5xBQ9x2xc8",
        "outputId": "b62aecb6-2b10-44a7-819d-89aa889bdc24"
      },
      "execution_count": 25,
      "outputs": [
        {
          "output_type": "display_data",
          "data": {
            "text/plain": [
              "<Figure size 640x480 with 1 Axes>"
            ],
            "image/png": "[encoded data removed]"
          },
          "metadata": {}
        },
        {
          "output_type": "stream",
          "name": "stdout",
          "text": [
            "airplane horse bird  deer \n"
          ]
        }
      ]
    },
    {
      "cell_type": "markdown",
      "source": [
        "###2.3 Setting up device-agnostic code and importing helper_functions"
      ],
      "metadata": {
        "id": "tNV-Dm-u94Cd"
      }
    },
    {
      "cell_type": "code",
      "source": [
        "device = torch.device('cuda:0' if torch.cuda.is_available() else 'cpu')\n",
        "print (device)"
      ],
      "metadata": {
        "colab": {
          "base_uri": "https://localhost:8080/"
        },
        "id": "jFu3ynz0-Gth",
        "outputId": "a5745cd2-7af8-4d7b-c950-2a1b5b08d43f"
      },
      "execution_count": 26,
      "outputs": [
        {
          "output_type": "stream",
          "name": "stdout",
          "text": [
            "cuda:0\n"
          ]
        }
      ]
    },
    {
      "cell_type": "markdown",
      "source": [
        "###2.4 Creating a larger convolutional neural network\n",
        "* Using nn.ReLU"
      ],
      "metadata": {
        "id": "rzDPT6IN-T8G"
      }
    },
    {
      "cell_type": "code",
      "source": [
        "import torch\n",
        "from torch import nn\n",
        "\n",
        "class LargeCNN(nn.Module):\n",
        "  def __init__(self, input_shape=(3, 32, 32), hidden_units=32, output_shape=10):\n",
        "    super().__init__()\n",
        "\n",
        "    # First convolutional block\n",
        "    self.conv_block_1 = nn.Sequential(\n",
        "      nn.Conv2d(in_channels=input_shape[0], out_channels=hidden_units, kernel_size=3, stride=1, padding=1),\n",
        "      nn.ReLU(),  # ReLU activation function\n",
        "      nn.Conv2d(in_channels=hidden_units, out_channels=hidden_units, kernel_size=3, stride=1, padding=1),\n",
        "      nn.ReLU(),  # ReLU activation function\n",
        "      nn.MaxPool2d(kernel_size=2)  # Max pooling layer\n",
        "    )\n",
        "\n",
        "    # Second convolutional block\n",
        "    self.conv_block_2 = nn.Sequential(\n",
        "      nn.Conv2d(in_channels=hidden_units, out_channels=hidden_units, kernel_size=3, stride=1, padding=1),\n",
        "      nn.ReLU(),  # ReLU activation function\n",
        "      nn.Conv2d(in_channels=hidden_units, out_channels=hidden_units, kernel_size=3, stride=1, padding=1),\n",
        "      nn.ReLU(),  # ReLU activation function\n",
        "      nn.MaxPool2d(kernel_size=2)  # Max pooling layer\n",
        "    )\n",
        "\n",
        "    # Fully connected classifier\n",
        "    self.classifier = nn.Sequential(\n",
        "      nn.Flatten(),  # Flatten the input for fully connected layers\n",
        "      nn.Linear(in_features=hidden_units * (input_shape[1] // 4) * (input_shape[2] // 4), out_features=output_shape)  # Linear layer\n",
        "    )\n",
        "\n",
        "  def forward(self, x):\n",
        "    # Forward pass through convolutional blocks\n",
        "    x = self.conv_block_1(x)\n",
        "    x = self.conv_block_2(x)\n",
        "\n",
        "    # Forward pass through fully connected layers\n",
        "    x = self.classifier(x)\n",
        "    return x\n"
      ],
      "metadata": {
        "id": "8BPo57cn-oCP"
      },
      "execution_count": 27,
      "outputs": []
    },
    {
      "cell_type": "code",
      "source": [
        "torch.manual_seed(42)\n",
        "model_3 = LargeCNN()\n",
        "\n",
        "# Sending model_3 to device\n",
        "model_3.to(device)"
      ],
      "metadata": {
        "colab": {
          "base_uri": "https://localhost:8080/"
        },
        "id": "7BQhiYjnsTio",
        "outputId": "353cfdf8-887c-49fb-96d0-d2798af9aaa6"
      },
      "execution_count": 28,
      "outputs": [
        {
          "output_type": "execute_result",
          "data": {
            "text/plain": [
              "LargeCNN(\n",
              "  (conv_block_1): Sequential(\n",
              "    (0): Conv2d(3, 32, kernel_size=(3, 3), stride=(1, 1), padding=(1, 1))\n",
              "    (1): ReLU()\n",
              "    (2): Conv2d(32, 32, kernel_size=(3, 3), stride=(1, 1), padding=(1, 1))\n",
              "    (3): ReLU()\n",
              "    (4): MaxPool2d(kernel_size=2, stride=2, padding=0, dilation=1, ceil_mode=False)\n",
              "  )\n",
              "  (conv_block_2): Sequential(\n",
              "    (0): Conv2d(32, 32, kernel_size=(3, 3), stride=(1, 1), padding=(1, 1))\n",
              "    (1): ReLU()\n",
              "    (2): Conv2d(32, 32, kernel_size=(3, 3), stride=(1, 1), padding=(1, 1))\n",
              "    (3): ReLU()\n",
              "    (4): MaxPool2d(kernel_size=2, stride=2, padding=0, dilation=1, ceil_mode=False)\n",
              "  )\n",
              "  (classifier): Sequential(\n",
              "    (0): Flatten(start_dim=1, end_dim=-1)\n",
              "    (1): Linear(in_features=2048, out_features=10, bias=True)\n",
              "  )\n",
              ")"
            ]
          },
          "metadata": {},
          "execution_count": 28
        }
      ]
    },
    {
      "cell_type": "markdown",
      "source": [
        "### 2.5. Setting up evaluation metrics and loss function and optimizer"
      ],
      "metadata": {
        "id": "ScQiMfNsD2yF"
      }
    },
    {
      "cell_type": "code",
      "source": [
        "optimizer = torch.optim.Adam(model_3.parameters(), lr=0.001)\n",
        "# Loss function\n",
        "loss_fn = nn.CrossEntropyLoss()"
      ],
      "metadata": {
        "id": "VopNVJi8sZ3b"
      },
      "execution_count": 29,
      "outputs": []
    },
    {
      "cell_type": "markdown",
      "source": [
        "### 2.6 Training and testing through functions"
      ],
      "metadata": {
        "id": "HfdQ6xJhEZnR"
      }
    },
    {
      "cell_type": "code",
      "source": [
        "# Training the neural network\n",
        "for epoch in range(10):\n",
        "  running_loss = 0.0\n",
        "  for i, data in enumerate(train_dataloader, 0):\n",
        "    # Making it all device agnostic code\n",
        "    inputs, labels = data[0].to(device), data[1].to(device)\n",
        "\n",
        "    optimizer.zero_grad()\n",
        "\n",
        "    outputs = model_3(inputs)\n",
        "    loss = loss_fn(outputs, labels)\n",
        "    loss.backward()\n",
        "    optimizer.step()\n",
        "\n",
        "    running_loss += loss.item()\n",
        "    if i%2000 == 1999:\n",
        "      print(f'[{epoch +1}, {i+1:5d}] loss: {running_loss/2000:.3f}')\n",
        "      running_loss = 0.0\n",
        "\n",
        "print('Finished Training')"
      ],
      "metadata": {
        "colab": {
          "base_uri": "https://localhost:8080/"
        },
        "id": "ROBa01N9Fi_l",
        "outputId": "1113294f-d019-429b-b3b6-5ffa82f8631d"
      },
      "execution_count": 30,
      "outputs": [
        {
          "output_type": "stream",
          "name": "stdout",
          "text": [
            "[1,  2000] loss: 1.881\n",
            "[1,  4000] loss: 1.577\n",
            "[1,  6000] loss: 1.454\n",
            "[1,  8000] loss: 1.379\n",
            "[1, 10000] loss: 1.309\n",
            "[1, 12000] loss: 1.270\n",
            "[2,  2000] loss: 1.218\n",
            "[2,  4000] loss: 1.185\n",
            "[2,  6000] loss: 1.183\n",
            "[2,  8000] loss: 1.143\n",
            "[2, 10000] loss: 1.135\n",
            "[2, 12000] loss: 1.105\n",
            "[3,  2000] loss: 1.064\n",
            "[3,  4000] loss: 1.079\n",
            "[3,  6000] loss: 1.074\n",
            "[3,  8000] loss: 1.085\n",
            "[3, 10000] loss: 1.064\n",
            "[3, 12000] loss: 1.058\n",
            "[4,  2000] loss: 1.026\n",
            "[4,  4000] loss: 1.029\n",
            "[4,  6000] loss: 1.031\n",
            "[4,  8000] loss: 1.012\n",
            "[4, 10000] loss: 1.030\n",
            "[4, 12000] loss: 1.025\n",
            "[5,  2000] loss: 0.992\n",
            "[5,  4000] loss: 0.998\n",
            "[5,  6000] loss: 1.007\n",
            "[5,  8000] loss: 1.001\n",
            "[5, 10000] loss: 0.969\n",
            "[5, 12000] loss: 1.014\n",
            "[6,  2000] loss: 0.976\n",
            "[6,  4000] loss: 0.961\n",
            "[6,  6000] loss: 0.981\n",
            "[6,  8000] loss: 0.973\n",
            "[6, 10000] loss: 0.983\n",
            "[6, 12000] loss: 0.989\n",
            "[7,  2000] loss: 0.950\n",
            "[7,  4000] loss: 0.990\n",
            "[7,  6000] loss: 0.960\n",
            "[7,  8000] loss: 0.957\n",
            "[7, 10000] loss: 0.980\n",
            "[7, 12000] loss: 0.957\n",
            "[8,  2000] loss: 0.952\n",
            "[8,  4000] loss: 0.957\n",
            "[8,  6000] loss: 0.954\n",
            "[8,  8000] loss: 0.961\n",
            "[8, 10000] loss: 0.953\n",
            "[8, 12000] loss: 0.958\n",
            "[9,  2000] loss: 0.960\n",
            "[9,  4000] loss: 0.932\n",
            "[9,  6000] loss: 0.952\n",
            "[9,  8000] loss: 0.946\n",
            "[9, 10000] loss: 0.941\n",
            "[9, 12000] loss: 0.962\n",
            "[10,  2000] loss: 0.931\n",
            "[10,  4000] loss: 0.934\n",
            "[10,  6000] loss: 0.928\n",
            "[10,  8000] loss: 0.933\n",
            "[10, 10000] loss: 0.939\n",
            "[10, 12000] loss: 0.952\n",
            "Finished Training\n"
          ]
        }
      ]
    },
    {
      "cell_type": "code",
      "source": [
        "# To see how the network performs on the whole dataset\n",
        "correct = 0\n",
        "total = 0\n",
        "\n",
        "with torch.no_grad():\n",
        "  for data in test_dataloader:\n",
        "    # Device Agnostic\n",
        "    images, labels = data[0].to(device), data[1].to(device)\n",
        "    outputs = model_3(images)\n",
        "    _, predicted = torch.max(outputs.data, 1)\n",
        "    total += labels.size(0)\n",
        "    correct += (predicted == labels).sum().item()\n",
        "\n",
        "print (f'Accuracy of the network on the 10000 test images: {100*correct // total}%')"
      ],
      "metadata": {
        "colab": {
          "base_uri": "https://localhost:8080/"
        },
        "id": "2ox_O9jXtq9z",
        "outputId": "5365329a-6ef5-4cbb-8730-eca3f18bb7f1"
      },
      "execution_count": 31,
      "outputs": [
        {
          "output_type": "stream",
          "name": "stdout",
          "text": [
            "Accuracy of the network on the 10000 test images: 63%\n"
          ]
        }
      ]
    },
    {
      "cell_type": "code",
      "source": [
        "# See accuracy based on the 10 classes\n",
        "correct_pred = {classname: 0 for classname in classes}\n",
        "total_pred = {classname: 0 for classname in classes}\n",
        "\n",
        "with torch.no_grad():\n",
        "  for data in test_dataloader:\n",
        "    # Device agnostic\n",
        "    images, labels = data[0].to(device), data[1].to(device)\n",
        "    outputs = model_3(images)\n",
        "    _, predictions = torch.max(outputs, 1)\n",
        "    for label, prediction in zip(labels, predictions):\n",
        "      if label == prediction:\n",
        "        correct_pred[classes[label]] += 1\n",
        "      total_pred[classes[label]] += 1\n",
        "\n",
        "for classname, correct_count in correct_pred.items():\n",
        "  accuracy = 100*float(correct_count) / total_pred [classname]\n",
        "  print(f'Accuracy for class: {classname:5s} is {accuracy:.1f} %')"
      ],
      "metadata": {
        "colab": {
          "base_uri": "https://localhost:8080/"
        },
        "id": "qZk9umkpt5_i",
        "outputId": "c8432b6b-c75c-49e3-cdf1-a4ae04561c77"
      },
      "execution_count": 32,
      "outputs": [
        {
          "output_type": "stream",
          "name": "stdout",
          "text": [
            "Accuracy for class: airplane is 74.5 %\n",
            "Accuracy for class: automobile is 82.5 %\n",
            "Accuracy for class: bird  is 40.1 %\n",
            "Accuracy for class: cat   is 38.4 %\n",
            "Accuracy for class: deer  is 58.2 %\n",
            "Accuracy for class: dog   is 46.9 %\n",
            "Accuracy for class: frog  is 92.2 %\n",
            "Accuracy for class: horse is 69.8 %\n",
            "Accuracy for class: ship  is 69.8 %\n",
            "Accuracy for class: truck is 66.1 %\n"
          ]
        }
      ]
    }
  ]
}